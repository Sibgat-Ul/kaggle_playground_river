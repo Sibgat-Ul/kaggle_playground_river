{
 "cells": [
  {
   "cell_type": "code",
   "execution_count": 28,
   "outputs": [],
   "source": [
    "import numpy as np\n",
    "import pandas as pd\n",
    "\n",
    "import matplotlib.pyplot as plt\n",
    "import seaborn as sns\n",
    "\n",
    "from sklearn.ensemble import RandomForestRegressor, IsolationForest\n",
    "from sklearn.metrics import mean_absolute_error\n",
    "from sklearn.preprocessing import MinMaxScaler, RobustScaler, Normalizer, StandardScaler\n",
    "from sklearn.feature_selection import SequentialFeatureSelector\n",
    "from sklearn.model_selection import cross_val_score, RepeatedKFold, train_test_split\n",
    "\n",
    "from sklearn.covariance import EllipticEnvelope\n",
    "from sklearn.neighbors import LocalOutlierFactor\n",
    "from sklearn.svm import OneClassSVM\n",
    "from sklearn.linear_model import SGDOneClassSVM\n",
    "\n",
    "import math\n",
    "import scipy.stats as ss\n",
    "\n",
    "SEED = 42\n",
    "\n",
    "def plot_scatter(df, x, y):\n",
    "    sns.scatterplot(df, x=df[x], y=df[y])\n",
    "\n",
    "rf = RandomForestRegressor(\n",
    "    n_estimators=1000,\n",
    "    max_depth=7,\n",
    "    n_jobs=-1,\n",
    "    random_state=42)"
   ],
   "metadata": {
    "collapsed": false,
    "ExecuteTime": {
     "end_time": "2023-09-11T05:09:27.392319071Z",
     "start_time": "2023-09-11T05:09:27.205657117Z"
    }
   }
  },
  {
   "cell_type": "code",
   "execution_count": 29,
   "outputs": [
    {
     "name": "stdout",
     "output_type": "stream",
     "text": [
      "(3500, 37)\n"
     ]
    },
    {
     "data": {
      "text/plain": "   id  target    O2_1   O2_2   O2_3   O2_4   O2_5   O2_6  O2_7  NH4_1  ...  \\\n0   0    8.59   7.500   9.00  9.545  9.265  8.110   8.43  7.15  0.180  ...   \n1   1    9.10  13.533  40.90  8.770  9.265  6.015  10.07  7.15  1.107  ...   \n2   2    8.21   3.710   5.42  8.770  9.265  4.550  10.07  7.15  0.020  ...   \n3   3    8.39   8.700   8.10  9.500  9.200  5.200   8.67  6.67  0.280  ...   \n4   4    8.07   8.050   8.65  7.960  9.265  3.290  10.07  7.15  0.360  ...   \n\n   NO3_5  NO3_6  NO3_7  BOD5_1  BOD5_2  BOD5_3  BOD5_4  BOD5_5  BOD5_6  BOD5_7  \n0   4.95  1.730  1.800   4.800    3.15  10.665  10.465  16.645    5.75   10.37  \n1  20.05  9.530  7.695   4.550    6.95   2.040   5.200   5.725    2.95    2.23  \n2   4.58  3.025  3.960   4.935    4.95   4.725   6.075   6.750    3.50    3.17  \n3   8.45  2.070  1.730   6.300    4.70   3.500   6.200   8.670    2.90    7.37  \n4   2.02  1.730  0.760   4.800    4.97   3.950   2.800   8.400    3.50    3.90  \n\n[5 rows x 37 columns]",
      "text/html": "<div>\n<style scoped>\n    .dataframe tbody tr th:only-of-type {\n        vertical-align: middle;\n    }\n\n    .dataframe tbody tr th {\n        vertical-align: top;\n    }\n\n    .dataframe thead th {\n        text-align: right;\n    }\n</style>\n<table border=\"1\" class=\"dataframe\">\n  <thead>\n    <tr style=\"text-align: right;\">\n      <th></th>\n      <th>id</th>\n      <th>target</th>\n      <th>O2_1</th>\n      <th>O2_2</th>\n      <th>O2_3</th>\n      <th>O2_4</th>\n      <th>O2_5</th>\n      <th>O2_6</th>\n      <th>O2_7</th>\n      <th>NH4_1</th>\n      <th>...</th>\n      <th>NO3_5</th>\n      <th>NO3_6</th>\n      <th>NO3_7</th>\n      <th>BOD5_1</th>\n      <th>BOD5_2</th>\n      <th>BOD5_3</th>\n      <th>BOD5_4</th>\n      <th>BOD5_5</th>\n      <th>BOD5_6</th>\n      <th>BOD5_7</th>\n    </tr>\n  </thead>\n  <tbody>\n    <tr>\n      <th>0</th>\n      <td>0</td>\n      <td>8.59</td>\n      <td>7.500</td>\n      <td>9.00</td>\n      <td>9.545</td>\n      <td>9.265</td>\n      <td>8.110</td>\n      <td>8.43</td>\n      <td>7.15</td>\n      <td>0.180</td>\n      <td>...</td>\n      <td>4.95</td>\n      <td>1.730</td>\n      <td>1.800</td>\n      <td>4.800</td>\n      <td>3.15</td>\n      <td>10.665</td>\n      <td>10.465</td>\n      <td>16.645</td>\n      <td>5.75</td>\n      <td>10.37</td>\n    </tr>\n    <tr>\n      <th>1</th>\n      <td>1</td>\n      <td>9.10</td>\n      <td>13.533</td>\n      <td>40.90</td>\n      <td>8.770</td>\n      <td>9.265</td>\n      <td>6.015</td>\n      <td>10.07</td>\n      <td>7.15</td>\n      <td>1.107</td>\n      <td>...</td>\n      <td>20.05</td>\n      <td>9.530</td>\n      <td>7.695</td>\n      <td>4.550</td>\n      <td>6.95</td>\n      <td>2.040</td>\n      <td>5.200</td>\n      <td>5.725</td>\n      <td>2.95</td>\n      <td>2.23</td>\n    </tr>\n    <tr>\n      <th>2</th>\n      <td>2</td>\n      <td>8.21</td>\n      <td>3.710</td>\n      <td>5.42</td>\n      <td>8.770</td>\n      <td>9.265</td>\n      <td>4.550</td>\n      <td>10.07</td>\n      <td>7.15</td>\n      <td>0.020</td>\n      <td>...</td>\n      <td>4.58</td>\n      <td>3.025</td>\n      <td>3.960</td>\n      <td>4.935</td>\n      <td>4.95</td>\n      <td>4.725</td>\n      <td>6.075</td>\n      <td>6.750</td>\n      <td>3.50</td>\n      <td>3.17</td>\n    </tr>\n    <tr>\n      <th>3</th>\n      <td>3</td>\n      <td>8.39</td>\n      <td>8.700</td>\n      <td>8.10</td>\n      <td>9.500</td>\n      <td>9.200</td>\n      <td>5.200</td>\n      <td>8.67</td>\n      <td>6.67</td>\n      <td>0.280</td>\n      <td>...</td>\n      <td>8.45</td>\n      <td>2.070</td>\n      <td>1.730</td>\n      <td>6.300</td>\n      <td>4.70</td>\n      <td>3.500</td>\n      <td>6.200</td>\n      <td>8.670</td>\n      <td>2.90</td>\n      <td>7.37</td>\n    </tr>\n    <tr>\n      <th>4</th>\n      <td>4</td>\n      <td>8.07</td>\n      <td>8.050</td>\n      <td>8.65</td>\n      <td>7.960</td>\n      <td>9.265</td>\n      <td>3.290</td>\n      <td>10.07</td>\n      <td>7.15</td>\n      <td>0.360</td>\n      <td>...</td>\n      <td>2.02</td>\n      <td>1.730</td>\n      <td>0.760</td>\n      <td>4.800</td>\n      <td>4.97</td>\n      <td>3.950</td>\n      <td>2.800</td>\n      <td>8.400</td>\n      <td>3.50</td>\n      <td>3.90</td>\n    </tr>\n  </tbody>\n</table>\n<p>5 rows × 37 columns</p>\n</div>"
     },
     "execution_count": 29,
     "metadata": {},
     "output_type": "execute_result"
    }
   ],
   "source": [
    "data = pd.read_csv(\"../dset/kaggle_river_playground/sample_submission.csv\")\n",
    "print(data.shape)\n",
    "data.head(5)"
   ],
   "metadata": {
    "collapsed": false,
    "ExecuteTime": {
     "end_time": "2023-09-11T05:09:27.394674732Z",
     "start_time": "2023-09-11T05:09:27.246303791Z"
    }
   }
  },
  {
   "cell_type": "code",
   "execution_count": 30,
   "outputs": [],
   "source": [
    "X, y = data.drop('target', axis = 1), data.target\n",
    "\n",
    "# scores = cross_val_score(rf, \n",
    "#                        X, \n",
    "#                        y,\n",
    "#                        cv = 10, \n",
    "#                        scoring = 'neg_mean_squared_error',\n",
    "#                        n_jobs = -1)\n",
    "# \n",
    "# print(f'MSE Mean (BASELINE): {scores.mean()}, Standard Deviation: {scores.std()}')"
   ],
   "metadata": {
    "collapsed": false,
    "ExecuteTime": {
     "end_time": "2023-09-11T05:09:27.405480704Z",
     "start_time": "2023-09-11T05:09:27.287165906Z"
    }
   }
  },
  {
   "cell_type": "code",
   "execution_count": 31,
   "outputs": [],
   "source": [
    "data.target = data['target'].clip(lower=7, upper=20);\n"
   ],
   "metadata": {
    "collapsed": false,
    "ExecuteTime": {
     "end_time": "2023-09-11T05:09:27.406212538Z",
     "start_time": "2023-09-11T05:09:27.297886388Z"
    }
   }
  },
  {
   "cell_type": "code",
   "execution_count": 32,
   "outputs": [
    {
     "name": "stdout",
     "output_type": "stream",
     "text": [
      "[1 1 1 ... 1 1 1]\n",
      "outliers:  27\n"
     ]
    },
    {
     "data": {
      "text/plain": "   id  target    O2_1   O2_2   O2_3   O2_4   O2_5   O2_6  O2_7  NH4_1  ...  \\\n0   0    8.59   7.500   9.00  9.545  9.265  8.110   8.43  7.15  0.180  ...   \n1   1    9.10  13.533  40.90  8.770  9.265  6.015  10.07  7.15  1.107  ...   \n2   2    8.21   3.710   5.42  8.770  9.265  4.550  10.07  7.15  0.020  ...   \n3   3    8.39   8.700   8.10  9.500  9.200  5.200   8.67  6.67  0.280  ...   \n4   4    8.07   8.050   8.65  7.960  9.265  3.290  10.07  7.15  0.360  ...   \n\n   NO3_5  NO3_6  NO3_7  BOD5_1  BOD5_2  BOD5_3  BOD5_4  BOD5_5  BOD5_6  BOD5_7  \n0   4.95  1.730  1.800   4.800    3.15  10.665  10.465  16.645    5.75   10.37  \n1  20.05  9.530  7.695   4.550    6.95   2.040   5.200   5.725    2.95    2.23  \n2   4.58  3.025  3.960   4.935    4.95   4.725   6.075   6.750    3.50    3.17  \n3   8.45  2.070  1.730   6.300    4.70   3.500   6.200   8.670    2.90    7.37  \n4   2.02  1.730  0.760   4.800    4.97   3.950   2.800   8.400    3.50    3.90  \n\n[5 rows x 37 columns]",
      "text/html": "<div>\n<style scoped>\n    .dataframe tbody tr th:only-of-type {\n        vertical-align: middle;\n    }\n\n    .dataframe tbody tr th {\n        vertical-align: top;\n    }\n\n    .dataframe thead th {\n        text-align: right;\n    }\n</style>\n<table border=\"1\" class=\"dataframe\">\n  <thead>\n    <tr style=\"text-align: right;\">\n      <th></th>\n      <th>id</th>\n      <th>target</th>\n      <th>O2_1</th>\n      <th>O2_2</th>\n      <th>O2_3</th>\n      <th>O2_4</th>\n      <th>O2_5</th>\n      <th>O2_6</th>\n      <th>O2_7</th>\n      <th>NH4_1</th>\n      <th>...</th>\n      <th>NO3_5</th>\n      <th>NO3_6</th>\n      <th>NO3_7</th>\n      <th>BOD5_1</th>\n      <th>BOD5_2</th>\n      <th>BOD5_3</th>\n      <th>BOD5_4</th>\n      <th>BOD5_5</th>\n      <th>BOD5_6</th>\n      <th>BOD5_7</th>\n    </tr>\n  </thead>\n  <tbody>\n    <tr>\n      <th>0</th>\n      <td>0</td>\n      <td>8.59</td>\n      <td>7.500</td>\n      <td>9.00</td>\n      <td>9.545</td>\n      <td>9.265</td>\n      <td>8.110</td>\n      <td>8.43</td>\n      <td>7.15</td>\n      <td>0.180</td>\n      <td>...</td>\n      <td>4.95</td>\n      <td>1.730</td>\n      <td>1.800</td>\n      <td>4.800</td>\n      <td>3.15</td>\n      <td>10.665</td>\n      <td>10.465</td>\n      <td>16.645</td>\n      <td>5.75</td>\n      <td>10.37</td>\n    </tr>\n    <tr>\n      <th>1</th>\n      <td>1</td>\n      <td>9.10</td>\n      <td>13.533</td>\n      <td>40.90</td>\n      <td>8.770</td>\n      <td>9.265</td>\n      <td>6.015</td>\n      <td>10.07</td>\n      <td>7.15</td>\n      <td>1.107</td>\n      <td>...</td>\n      <td>20.05</td>\n      <td>9.530</td>\n      <td>7.695</td>\n      <td>4.550</td>\n      <td>6.95</td>\n      <td>2.040</td>\n      <td>5.200</td>\n      <td>5.725</td>\n      <td>2.95</td>\n      <td>2.23</td>\n    </tr>\n    <tr>\n      <th>2</th>\n      <td>2</td>\n      <td>8.21</td>\n      <td>3.710</td>\n      <td>5.42</td>\n      <td>8.770</td>\n      <td>9.265</td>\n      <td>4.550</td>\n      <td>10.07</td>\n      <td>7.15</td>\n      <td>0.020</td>\n      <td>...</td>\n      <td>4.58</td>\n      <td>3.025</td>\n      <td>3.960</td>\n      <td>4.935</td>\n      <td>4.95</td>\n      <td>4.725</td>\n      <td>6.075</td>\n      <td>6.750</td>\n      <td>3.50</td>\n      <td>3.17</td>\n    </tr>\n    <tr>\n      <th>3</th>\n      <td>3</td>\n      <td>8.39</td>\n      <td>8.700</td>\n      <td>8.10</td>\n      <td>9.500</td>\n      <td>9.200</td>\n      <td>5.200</td>\n      <td>8.67</td>\n      <td>6.67</td>\n      <td>0.280</td>\n      <td>...</td>\n      <td>8.45</td>\n      <td>2.070</td>\n      <td>1.730</td>\n      <td>6.300</td>\n      <td>4.70</td>\n      <td>3.500</td>\n      <td>6.200</td>\n      <td>8.670</td>\n      <td>2.90</td>\n      <td>7.37</td>\n    </tr>\n    <tr>\n      <th>4</th>\n      <td>4</td>\n      <td>8.07</td>\n      <td>8.050</td>\n      <td>8.65</td>\n      <td>7.960</td>\n      <td>9.265</td>\n      <td>3.290</td>\n      <td>10.07</td>\n      <td>7.15</td>\n      <td>0.360</td>\n      <td>...</td>\n      <td>2.02</td>\n      <td>1.730</td>\n      <td>0.760</td>\n      <td>4.800</td>\n      <td>4.97</td>\n      <td>3.950</td>\n      <td>2.800</td>\n      <td>8.400</td>\n      <td>3.50</td>\n      <td>3.90</td>\n    </tr>\n  </tbody>\n</table>\n<p>5 rows × 37 columns</p>\n</div>"
     },
     "execution_count": 32,
     "metadata": {},
     "output_type": "execute_result"
    }
   ],
   "source": [
    "svm = SGDOneClassSVM(nu=0.55)\n",
    "yhat = svm.fit_predict(data.drop('id', axis=1))\n",
    "\n",
    "print(yhat)\n",
    "print('outliers: ', np.count_nonzero(yhat == -1))\n",
    "\n",
    "mask = yhat != -1\n",
    "data_svm = data.loc[mask, : ].reset_index(drop=True)\n",
    "X_SVM, Y_SVM = data_svm.drop('target', axis=1), data_svm['target']\n",
    "\n",
    "# scores = cross_val_score(rf, \n",
    "#                        X_SVM,\n",
    "#                        Y_SVM,\n",
    "#                        cv = 10, \n",
    "#                        scoring = 'neg_mean_squared_error',\n",
    "#                        n_jobs = -1)\n",
    "# \n",
    "# print(f'[{svm.__class__.__name__}] --> MSE Mean: {scores.mean()}, Standard Deviation: {scores.std()}')\n",
    "data_svm.head()\n",
    "\n"
   ],
   "metadata": {
    "collapsed": false,
    "ExecuteTime": {
     "end_time": "2023-09-11T05:09:27.407999575Z",
     "start_time": "2023-09-11T05:09:27.339982349Z"
    }
   }
  },
  {
   "cell_type": "code",
   "execution_count": 33,
   "outputs": [
    {
     "name": "stdout",
     "output_type": "stream",
     "text": [
      "outliers:  90\n"
     ]
    }
   ],
   "source": [
    "iso = IsolationForest(random_state=0)\n",
    "yhat = iso.fit_predict(data_svm.drop('id', axis=1))\n",
    "print('outliers: ', np.count_nonzero(yhat == -1))\n",
    "\n",
    "mask = yhat != -1\n",
    "data_iso = data_svm.loc[mask,: ].reset_index(drop=True)\n",
    "\n",
    "X_ISO, Y_ISO = data_iso.drop('target', axis=1), data_iso['target']"
   ],
   "metadata": {
    "collapsed": false,
    "ExecuteTime": {
     "end_time": "2023-09-11T05:09:27.757910957Z",
     "start_time": "2023-09-11T05:09:27.423776811Z"
    }
   }
  },
  {
   "cell_type": "code",
   "execution_count": 34,
   "outputs": [
    {
     "name": "stdout",
     "output_type": "stream",
     "text": [
      "outliers:  339\n"
     ]
    }
   ],
   "source": [
    "lof = LocalOutlierFactor(n_neighbors=3, contamination=0.1)\n",
    "yhat = lof.fit_predict(data_iso.drop(['id', 'target'], axis=1))\n",
    "\n",
    "print('outliers: ', np.count_nonzero(yhat==-1))\n",
    "\n",
    "mask = yhat != -1\n",
    "data_final = data_iso.loc[mask,:].reset_index(drop=True)\n",
    "X_LOF, Y_LOF = data_final.drop('target', axis = 1), data_final['target']"
   ],
   "metadata": {
    "collapsed": false,
    "ExecuteTime": {
     "end_time": "2023-09-11T05:09:27.849695195Z",
     "start_time": "2023-09-11T05:09:27.743097459Z"
    }
   }
  },
  {
   "cell_type": "code",
   "execution_count": 35,
   "outputs": [
    {
     "name": "stdout",
     "output_type": "stream",
     "text": [
      "   id    O2_1   O2_2    O2_3   O2_4   O2_5    O2_6   O2_7  NH4_1  NH4_2  ...  \\\n",
      "0   0   7.500   9.00   9.545  9.265  8.110   8.430  7.150  0.180  0.200  ...   \n",
      "1   1  13.533  40.90   8.770  9.265  6.015  10.070  7.150  1.107  1.027  ...   \n",
      "2   2   3.710   5.42   8.770  9.265  4.550  10.070  7.150  0.020  0.020  ...   \n",
      "3   3   8.700   8.10   9.500  9.200  5.200   8.670  6.670  0.280  0.270  ...   \n",
      "4   4   8.050   8.65   7.960  9.265  3.290  10.070  7.150  0.360  0.435  ...   \n",
      "5   5   9.000   9.00  11.475  9.115  8.110   8.980  6.375  0.240  0.245  ...   \n",
      "6   6   7.500   8.50   9.000  9.115  6.025   9.805  5.030  0.300  0.300  ...   \n",
      "7   7   7.350   8.10   9.545  9.115  6.025   8.980  7.150  0.300  0.300  ...   \n",
      "8   8   6.400   8.40   8.370  7.890  5.075  10.070  5.030  0.240  0.200  ...   \n",
      "9   9   7.400   8.40   9.545  7.600  4.000   9.805  5.030  0.140  0.200  ...   \n",
      "\n",
      "    NO3_5  NO3_6  NO3_7  BOD5_1  BOD5_2  BOD5_3  BOD5_4  BOD5_5  BOD5_6  \\\n",
      "0   4.950  1.730  1.800   4.800    3.15  10.665  10.465  16.645   5.750   \n",
      "1  20.050  9.530  7.695   4.550    6.95   2.040   5.200   5.725   2.950   \n",
      "2   4.580  3.025  3.960   4.935    4.95   4.725   6.075   6.750   3.500   \n",
      "3   8.450  2.070  1.730   6.300    4.70   3.500   6.200   8.670   2.900   \n",
      "4   2.020  1.730  0.760   4.800    4.97   3.950   2.800   8.400   3.500   \n",
      "5  20.050  0.190  1.800   2.520    1.72   4.725   6.075   8.400   2.155   \n",
      "6  20.050  2.095  1.800   7.650    4.10   2.040   4.950  16.645   3.500   \n",
      "7   2.020  0.636  8.320   4.700    3.97   3.950   3.300   8.400   3.500   \n",
      "8   7.795  6.760  8.320   3.500    4.50   7.900   6.075   8.400   5.725   \n",
      "9   4.580  3.020  3.020   8.600    6.70   4.725   8.400   8.415   6.625   \n",
      "\n",
      "   BOD5_7  \n",
      "0   10.37  \n",
      "1    2.23  \n",
      "2    3.17  \n",
      "3    7.37  \n",
      "4    3.90  \n",
      "5    4.40  \n",
      "6    1.83  \n",
      "7    3.70  \n",
      "8    7.50  \n",
      "9    4.14  \n",
      "\n",
      "[10 rows x 36 columns] 0    8.59\n",
      "1    9.10\n",
      "2    8.21\n",
      "3    8.39\n",
      "4    8.07\n",
      "5    8.12\n",
      "6    8.12\n",
      "7    7.65\n",
      "8    7.00\n",
      "9    9.38\n",
      "Name: target, dtype: float64    id  target    O2_1   O2_2    O2_3   O2_4   O2_5    O2_6   O2_7  NH4_1  ...  \\\n",
      "0   0    8.59   7.500   9.00   9.545  9.265  8.110   8.430  7.150  0.180  ...   \n",
      "1   1    9.10  13.533  40.90   8.770  9.265  6.015  10.070  7.150  1.107  ...   \n",
      "2   2    8.21   3.710   5.42   8.770  9.265  4.550  10.070  7.150  0.020  ...   \n",
      "3   3    8.39   8.700   8.10   9.500  9.200  5.200   8.670  6.670  0.280  ...   \n",
      "4   4    8.07   8.050   8.65   7.960  9.265  3.290  10.070  7.150  0.360  ...   \n",
      "5   5    8.12   9.000   9.00  11.475  9.115  8.110   8.980  6.375  0.240  ...   \n",
      "6   6    8.12   7.500   8.50   9.000  9.115  6.025   9.805  5.030  0.300  ...   \n",
      "7   7    7.65   7.350   8.10   9.545  9.115  6.025   8.980  7.150  0.300  ...   \n",
      "8   8    7.00   6.400   8.40   8.370  7.890  5.075  10.070  5.030  0.240  ...   \n",
      "9   9    9.38   7.400   8.40   9.545  7.600  4.000   9.805  5.030  0.140  ...   \n",
      "\n",
      "    NO3_5  NO3_6  NO3_7  BOD5_1  BOD5_2  BOD5_3  BOD5_4  BOD5_5  BOD5_6  \\\n",
      "0   4.950  1.730  1.800   4.800    3.15  10.665  10.465  16.645   5.750   \n",
      "1  20.050  9.530  7.695   4.550    6.95   2.040   5.200   5.725   2.950   \n",
      "2   4.580  3.025  3.960   4.935    4.95   4.725   6.075   6.750   3.500   \n",
      "3   8.450  2.070  1.730   6.300    4.70   3.500   6.200   8.670   2.900   \n",
      "4   2.020  1.730  0.760   4.800    4.97   3.950   2.800   8.400   3.500   \n",
      "5  20.050  0.190  1.800   2.520    1.72   4.725   6.075   8.400   2.155   \n",
      "6  20.050  2.095  1.800   7.650    4.10   2.040   4.950  16.645   3.500   \n",
      "7   2.020  0.636  8.320   4.700    3.97   3.950   3.300   8.400   3.500   \n",
      "8   7.795  6.760  8.320   3.500    4.50   7.900   6.075   8.400   5.725   \n",
      "9   4.580  3.020  3.020   8.600    6.70   4.725   8.400   8.415   6.625   \n",
      "\n",
      "   BOD5_7  \n",
      "0   10.37  \n",
      "1    2.23  \n",
      "2    3.17  \n",
      "3    7.37  \n",
      "4    3.90  \n",
      "5    4.40  \n",
      "6    1.83  \n",
      "7    3.70  \n",
      "8    7.50  \n",
      "9    4.14  \n",
      "\n",
      "[10 rows x 37 columns]\n"
     ]
    }
   ],
   "source": [
    "X_final, y_final = data_final.drop('target', axis=1), data_final['target']\n",
    "print(X_final.head(10), y_final.head(10), data_final.head(10))"
   ],
   "metadata": {
    "collapsed": false,
    "ExecuteTime": {
     "end_time": "2023-09-11T05:09:27.933966683Z",
     "start_time": "2023-09-11T05:09:27.830638530Z"
    }
   }
  },
  {
   "cell_type": "code",
   "execution_count": 36,
   "outputs": [
    {
     "data": {
      "text/plain": "<Figure size 1600x600 with 1 Axes>",
      "image/png": "[encoded data removed]"
     },
     "metadata": {},
     "output_type": "display_data"
    }
   ],
   "source": [
    "rf.fit(X_final, y_final)\n",
    "\n",
    "important_features = pd.DataFrame({'importance': rf.feature_importances_}, index=X_final.columns).sort_values(by='importance', ascending=False)\n",
    "important_features.plot(figsize=(16, 6), kind=\"barh\").get_legend().remove()"
   ],
   "metadata": {
    "collapsed": false,
    "ExecuteTime": {
     "end_time": "2023-09-11T05:09:37.889387775Z",
     "start_time": "2023-09-11T05:09:27.912084454Z"
    }
   }
  },
  {
   "cell_type": "code",
   "execution_count": 37,
   "outputs": [
    {
     "name": "stdout",
     "output_type": "stream",
     "text": [
      "mean:  -0.8643841467081448 standard deviation:  0.1523284801312228\n"
     ]
    }
   ],
   "source": [
    "selected = important_features.nlargest(4, 'importance').index\n",
    "\n",
    "scores = cross_val_score(rf, X_final[selected], y_final, cv = 10, scoring='neg_mean_squared_error', n_jobs=-1)\n",
    "print('mean: ', scores.mean(), 'standard deviation: ', scores.std())"
   ],
   "metadata": {
    "collapsed": false,
    "ExecuteTime": {
     "end_time": "2023-09-11T05:09:54.402087377Z",
     "start_time": "2023-09-11T05:09:37.589908102Z"
    }
   }
  },
  {
   "cell_type": "code",
   "execution_count": 38,
   "outputs": [
    {
     "data": {
      "text/plain": "   id  target    O2_1   O2_2   O2_3   O2_4   O2_5   O2_6  O2_7  NH4_1  ...  \\\n0   0    8.59   7.500   9.00  9.545  9.265  8.110   8.43  7.15  0.180  ...   \n1   1    9.10  13.533  40.90  8.770  9.265  6.015  10.07  7.15  1.107  ...   \n2   2    8.21   3.710   5.42  8.770  9.265  4.550  10.07  7.15  0.020  ...   \n3   3    8.39   8.700   8.10  9.500  9.200  5.200   8.67  6.67  0.280  ...   \n4   4    8.07   8.050   8.65  7.960  9.265  3.290  10.07  7.15  0.360  ...   \n\n   NO3_5  NO3_6  NO3_7  BOD5_1  BOD5_2  BOD5_3  BOD5_4  BOD5_5  BOD5_6  BOD5_7  \n0   4.95  1.730  1.800   4.800    3.15  10.665  10.465  16.645    5.75   10.37  \n1  20.05  9.530  7.695   4.550    6.95   2.040   5.200   5.725    2.95    2.23  \n2   4.58  3.025  3.960   4.935    4.95   4.725   6.075   6.750    3.50    3.17  \n3   8.45  2.070  1.730   6.300    4.70   3.500   6.200   8.670    2.90    7.37  \n4   2.02  1.730  0.760   4.800    4.97   3.950   2.800   8.400    3.50    3.90  \n\n[5 rows x 37 columns]",
      "text/html": "<div>\n<style scoped>\n    .dataframe tbody tr th:only-of-type {\n        vertical-align: middle;\n    }\n\n    .dataframe tbody tr th {\n        vertical-align: top;\n    }\n\n    .dataframe thead th {\n        text-align: right;\n    }\n</style>\n<table border=\"1\" class=\"dataframe\">\n  <thead>\n    <tr style=\"text-align: right;\">\n      <th></th>\n      <th>id</th>\n      <th>target</th>\n      <th>O2_1</th>\n      <th>O2_2</th>\n      <th>O2_3</th>\n      <th>O2_4</th>\n      <th>O2_5</th>\n      <th>O2_6</th>\n      <th>O2_7</th>\n      <th>NH4_1</th>\n      <th>...</th>\n      <th>NO3_5</th>\n      <th>NO3_6</th>\n      <th>NO3_7</th>\n      <th>BOD5_1</th>\n      <th>BOD5_2</th>\n      <th>BOD5_3</th>\n      <th>BOD5_4</th>\n      <th>BOD5_5</th>\n      <th>BOD5_6</th>\n      <th>BOD5_7</th>\n    </tr>\n  </thead>\n  <tbody>\n    <tr>\n      <th>0</th>\n      <td>0</td>\n      <td>8.59</td>\n      <td>7.500</td>\n      <td>9.00</td>\n      <td>9.545</td>\n      <td>9.265</td>\n      <td>8.110</td>\n      <td>8.43</td>\n      <td>7.15</td>\n      <td>0.180</td>\n      <td>...</td>\n      <td>4.95</td>\n      <td>1.730</td>\n      <td>1.800</td>\n      <td>4.800</td>\n      <td>3.15</td>\n      <td>10.665</td>\n      <td>10.465</td>\n      <td>16.645</td>\n      <td>5.75</td>\n      <td>10.37</td>\n    </tr>\n    <tr>\n      <th>1</th>\n      <td>1</td>\n      <td>9.10</td>\n      <td>13.533</td>\n      <td>40.90</td>\n      <td>8.770</td>\n      <td>9.265</td>\n      <td>6.015</td>\n      <td>10.07</td>\n      <td>7.15</td>\n      <td>1.107</td>\n      <td>...</td>\n      <td>20.05</td>\n      <td>9.530</td>\n      <td>7.695</td>\n      <td>4.550</td>\n      <td>6.95</td>\n      <td>2.040</td>\n      <td>5.200</td>\n      <td>5.725</td>\n      <td>2.95</td>\n      <td>2.23</td>\n    </tr>\n    <tr>\n      <th>2</th>\n      <td>2</td>\n      <td>8.21</td>\n      <td>3.710</td>\n      <td>5.42</td>\n      <td>8.770</td>\n      <td>9.265</td>\n      <td>4.550</td>\n      <td>10.07</td>\n      <td>7.15</td>\n      <td>0.020</td>\n      <td>...</td>\n      <td>4.58</td>\n      <td>3.025</td>\n      <td>3.960</td>\n      <td>4.935</td>\n      <td>4.95</td>\n      <td>4.725</td>\n      <td>6.075</td>\n      <td>6.750</td>\n      <td>3.50</td>\n      <td>3.17</td>\n    </tr>\n    <tr>\n      <th>3</th>\n      <td>3</td>\n      <td>8.39</td>\n      <td>8.700</td>\n      <td>8.10</td>\n      <td>9.500</td>\n      <td>9.200</td>\n      <td>5.200</td>\n      <td>8.67</td>\n      <td>6.67</td>\n      <td>0.280</td>\n      <td>...</td>\n      <td>8.45</td>\n      <td>2.070</td>\n      <td>1.730</td>\n      <td>6.300</td>\n      <td>4.70</td>\n      <td>3.500</td>\n      <td>6.200</td>\n      <td>8.670</td>\n      <td>2.90</td>\n      <td>7.37</td>\n    </tr>\n    <tr>\n      <th>4</th>\n      <td>4</td>\n      <td>8.07</td>\n      <td>8.050</td>\n      <td>8.65</td>\n      <td>7.960</td>\n      <td>9.265</td>\n      <td>3.290</td>\n      <td>10.07</td>\n      <td>7.15</td>\n      <td>0.360</td>\n      <td>...</td>\n      <td>2.02</td>\n      <td>1.730</td>\n      <td>0.760</td>\n      <td>4.800</td>\n      <td>4.97</td>\n      <td>3.950</td>\n      <td>2.800</td>\n      <td>8.400</td>\n      <td>3.50</td>\n      <td>3.90</td>\n    </tr>\n  </tbody>\n</table>\n<p>5 rows × 37 columns</p>\n</div>"
     },
     "execution_count": 38,
     "metadata": {},
     "output_type": "execute_result"
    }
   ],
   "source": [
    "data_final.head()"
   ],
   "metadata": {
    "collapsed": false,
    "ExecuteTime": {
     "end_time": "2023-09-11T05:09:54.470491487Z",
     "start_time": "2023-09-11T05:09:54.399351701Z"
    }
   }
  },
  {
   "cell_type": "code",
   "execution_count": 39,
   "outputs": [],
   "source": [
    "bad_labels = [2365, 1089, 1936, 1680, 211,2294,448, 437,309,1684]\n",
    "data_final = data_final[~data_final['id'].isin(bad_labels)]\n",
    "\n",
    "for column in X.columns:\n",
    "    if column not in selected:\n",
    "        data_final[column] = 0\n"
   ],
   "metadata": {
    "collapsed": false,
    "ExecuteTime": {
     "end_time": "2023-09-11T05:09:54.502279112Z",
     "start_time": "2023-09-11T05:09:54.480988887Z"
    }
   }
  },
  {
   "cell_type": "code",
   "execution_count": 40,
   "outputs": [],
   "source": [
    "drop_index = np.random.choice(data_final[data_final['target']==7].index.to_numpy(), 150, replace=False)\n",
    "data_final.drop(drop_index, inplace = True)"
   ],
   "metadata": {
    "collapsed": false,
    "ExecuteTime": {
     "end_time": "2023-09-11T05:09:54.529657397Z",
     "start_time": "2023-09-11T05:09:54.481711581Z"
    }
   }
  },
  {
   "cell_type": "code",
   "execution_count": 41,
   "outputs": [],
   "source": [
    "submission = data_final.reset_index(drop = True).copy()\n",
    "submission.head()\n",
    "\n",
    "submission.to_csv('submission.csv', index = False)"
   ],
   "metadata": {
    "collapsed": false,
    "ExecuteTime": {
     "end_time": "2023-09-11T05:09:54.685126105Z",
     "start_time": "2023-09-11T05:09:54.502925719Z"
    }
   }
  }
 ],
 "metadata": {
  "kernelspec": {
   "display_name": "Python 3",
   "language": "python",
   "name": "python3"
  },
  "language_info": {
   "codemirror_mode": {
    "name": "ipython",
    "version": 2
   },
   "file_extension": ".py",
   "mimetype": "text/x-python",
   "name": "python",
   "nbconvert_exporter": "python",
   "pygments_lexer": "ipython2",
   "version": "2.7.6"
  }
 },
 "nbformat": 4,
 "nbformat_minor": 0
}
